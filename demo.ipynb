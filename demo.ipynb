{
 "cells": [
  {
   "cell_type": "code",
   "execution_count": null,
   "metadata": {},
   "outputs": [],
   "source": [
    "%load_ext autoreload\n",
    "%autoreload 2"
   ]
  },
  {
   "cell_type": "code",
   "execution_count": null,
   "metadata": {},
   "outputs": [],
   "source": [
    "import matplotlib.pyplot as plt\n",
    "import methods"
   ]
  },
  {
   "cell_type": "code",
   "execution_count": null,
   "metadata": {},
   "outputs": [],
   "source": [
    "# Define the problem (i.e. define the edges of the graph)\n",
    "nodes = 10\n",
    "edges = [(0, 7), (0, 3), (0, 5), (7, 9), (7, 8), (1, 2), (1, 4), (1, 6), (2, 3), (2, 8), (5, 8), (5, 3), (4, 9), (4, 6), (9, 6)]"
   ]
  },
  {
   "cell_type": "code",
   "execution_count": null,
   "metadata": {},
   "outputs": [],
   "source": [
    "# Define angles, in the form of list of numbers\n",
    "# For example, if the number of rounds is 1, betas and gammas could be\n",
    "betas = [0]\n",
    "gammas = [0]"
   ]
  },
  {
   "cell_type": "markdown",
   "metadata": {},
   "source": [
    "## `qaoa_anstaz` object\n",
    "The main class that includes all the methods is the `qaoa_anstaz` class in the `methods` module.\n",
    "The cell below initialized it and does a noiseless simulation to obtain the distribution of cut sizes, along with various metrics such as the approximation ratio.\n",
    "\n",
    "While specifying the ansatz, the actual solution (i.e. the maxcut and maxcut size) can be specified using the arguments `optimal_cut` and `optimal_size`. If not provided by the user, the optimal answer is computed using a brute force method (classically)."
   ]
  },
  {
   "cell_type": "code",
   "execution_count": null,
   "metadata": {},
   "outputs": [],
   "source": [
    "ansatz = methods.qaoa_anstaz(nodes, edges, betas, gammas, num_shots = 5000)\n",
    "ansatz.execute_circuit()"
   ]
  },
  {
   "cell_type": "code",
   "execution_count": null,
   "metadata": {},
   "outputs": [],
   "source": [
    "ansatz.draw_ansatz()"
   ]
  },
  {
   "cell_type": "markdown",
   "metadata": {},
   "source": [
    "# Plot the graph"
   ]
  },
  {
   "cell_type": "code",
   "execution_count": null,
   "metadata": {},
   "outputs": [],
   "source": [
    "ansatz.draw_graph()"
   ]
  },
  {
   "cell_type": "markdown",
   "metadata": {},
   "source": [
    "## Cut Size Distribution\n",
    "The cut size distribution can be plotted using the `qaoa_anstaz.plot_cutsize_dist() ` \n",
    "method.\n",
    "\n",
    "The empirically obtained distribution of cut sizes is stored in variables `qaoa_anstaz.dist_sizes` and `qaoa_anstaz.dist_sizes`."
   ]
  },
  {
   "cell_type": "code",
   "execution_count": null,
   "metadata": {},
   "outputs": [],
   "source": [
    "ansatz.plot_cutsize_dist()"
   ]
  },
  {
   "cell_type": "markdown",
   "metadata": {},
   "source": [
    "## Metrics for quality assessment\n",
    "Can be accessed from the QAOA_ansatz class after evaluation.\n",
    "See the cell below for an example."
   ]
  },
  {
   "cell_type": "code",
   "execution_count": null,
   "metadata": {},
   "outputs": [],
   "source": [
    "# Print all the metrics\n",
    "print(\"The Approximation Ratio is {:.3f}\".format(circ.approx_ratio))\n",
    "print(\"The Gibbs Ratio is {:.3f}\".format(circ.gibbs_ratio))\n",
    "print(\"The CVaR Ratio is {:.3f}\".format(circ.cvar_ratio))\n",
    "print(\"The Best Cut Ratio is {:.3f}\".format(circ.bestcut_ratio))"
   ]
  },
  {
   "cell_type": "markdown",
   "metadata": {},
   "source": [
    "## Approximation Ratio Landscape"
   ]
  }
 ],
 "metadata": {
  "kernelspec": {
   "display_name": "Python 3.10.5 ('qiskit')",
   "language": "python",
   "name": "python3"
  },
  "language_info": {
   "codemirror_mode": {
    "name": "ipython",
    "version": 3
   },
   "file_extension": ".py",
   "mimetype": "text/x-python",
   "name": "python",
   "nbconvert_exporter": "python",
   "pygments_lexer": "ipython3",
   "version": "3.10.5"
  },
  "orig_nbformat": 4,
  "vscode": {
   "interpreter": {
    "hash": "87c0327dc9df8477896aec72b423d1e52b3932ea0fdb948c052603181ca8100b"
   }
  }
 },
 "nbformat": 4,
 "nbformat_minor": 2
}
